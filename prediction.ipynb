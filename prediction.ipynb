{
 "cells": [
  {
   "cell_type": "code",
   "execution_count": 8,
   "id": "37eb4248-4709-491c-9949-52bf1b17148a",
   "metadata": {},
   "outputs": [],
   "source": [
    "import pickle \n",
    "import pandas as pd\n"
   ]
  },
  {
   "cell_type": "code",
   "execution_count": 10,
   "id": "9bcadf71-1619-4067-b09e-c2dc8f2d3c9c",
   "metadata": {},
   "outputs": [],
   "source": [
    "with open ('lrmodel.pkl','rb') as f:\n",
    "  clf=pickle.load(f)"
   ]
  },
  {
   "cell_type": "code",
   "execution_count": 18,
   "id": "f710c6ef-ca9e-4dd3-875d-8aef59880c7f",
   "metadata": {},
   "outputs": [
    {
     "name": "stdout",
     "output_type": "stream",
     "text": [
      "SMS: Congratulations! You won a free iPhone. Click here to claim your prize! \n",
      "Prediction: SPAM\n",
      "\n",
      "SMS: Hey, are we still meeting at 5 pm today? \n",
      "Prediction: HAM\n",
      "\n",
      "SMS: Earn $500 daily from home. Click the link to find out how! \n",
      "Prediction: HAM\n",
      "\n",
      "SMS: Your package will be delivered tomorrow by 10 AM. \n",
      "Prediction: HAM\n",
      "\n",
      "SMS: Urgent! Your bank account has been suspended. Click this link to verify. \n",
      "Prediction: HAM\n",
      "\n"
     ]
    }
   ],
   "source": [
    "\n",
    "\n",
    "# Load the trained CountVectorizer\n",
    "with open('cvmodel.pkl', 'rb') as f:\n",
    "    cv = pickle.load(f)\n",
    "\n",
    "\n",
    "\n",
    "# Sample test SMS messages\n",
    "test_sms = [\n",
    "    \"Congratulations! You won a free iPhone. Click here to claim your prize!\",  # SPAM\n",
    "    \"Hey, are we still meeting at 5 pm today?\",  # HAM\n",
    "    \"Earn $500 daily from home. Click the link to find out how!\",  # SPAM\n",
    "    \"Your package will be delivered tomorrow by 10 AM.\",  # HAM\n",
    "    \"Urgent! Your bank account has been suspended. Click this link to verify.\",  # SPAM\n",
    "]\n",
    "\n",
    "# Transform input SMS using the same CountVectorizer\n",
    "input_data = cv.transform(test_sms)\n",
    "\n",
    "# Predict using the trained model\n",
    "predictions = clf.predict(input_data)\n",
    "\n",
    "# Output the results\n",
    "for sms, pred in zip(test_sms, predictions):\n",
    "    label = \"SPAM\" if pred == 1 else \"HAM\"\n",
    "    print(f\"SMS: {sms} \\nPrediction: {label}\\n\")\n"
   ]
  },
  {
   "cell_type": "code",
   "execution_count": null,
   "id": "e9f28920-72a6-4fc7-97f1-9160700e6d18",
   "metadata": {},
   "outputs": [],
   "source": []
  }
 ],
 "metadata": {
  "kernelspec": {
   "display_name": "Python 3 (ipykernel)",
   "language": "python",
   "name": "python3"
  },
  "language_info": {
   "codemirror_mode": {
    "name": "ipython",
    "version": 3
   },
   "file_extension": ".py",
   "mimetype": "text/x-python",
   "name": "python",
   "nbconvert_exporter": "python",
   "pygments_lexer": "ipython3",
   "version": "3.12.7"
  }
 },
 "nbformat": 4,
 "nbformat_minor": 5
}
